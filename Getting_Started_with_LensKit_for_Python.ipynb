{
  "nbformat": 4,
  "nbformat_minor": 0,
  "metadata": {
    "kernelspec": {
      "display_name": "Python 3",
      "language": "python",
      "name": "python3"
    },
    "language_info": {
      "codemirror_mode": {
        "name": "ipython",
        "version": 3
      },
      "file_extension": ".py",
      "mimetype": "text/x-python",
      "name": "python",
      "nbconvert_exporter": "python",
      "pygments_lexer": "ipython3",
      "version": "3.7.4"
    },
    "colab": {
      "name": "Getting Started with LensKit for Python",
      "provenance": [],
      "collapsed_sections": [],
      "toc_visible": true
    }
  },
  "cells": [
    {
      "cell_type": "markdown",
      "metadata": {
        "id": "UhZ4bM75-Wiq"
      },
      "source": [
        "# Getting Started\n",
        "\n",
        "En el presente _Notebook_ vamos a desarrollar un sistema de recomendación Item-Item con la libreria _Lenskit_ similar al implementado en el laboratorio 1 con _Scikit-Surprise_. Este Notebook se apoya, traduce y explica el material presente en la documentación de la libreria para nuestro contexto. \n",
        "\n",
        "__Referencias__:\n",
        "Michael D. Ekstrand. 2020. LensKit for Python: Next-Generation Software for Recommender Systems Experiments. In _Proceedings of the 29th ACM International Conference on Information and Knowledge Management_ (CIKM ‘20). DOI:10.1145/3340531.3412778. arXiv:1809.03125 [cs.IR]. Recuperado de: https://lkpy.readthedocs.io/en/stable/GettingStarted.html\n"
      ]
    },
    {
      "cell_type": "markdown",
      "metadata": {
        "id": "BKl2xgna-Wir"
      },
      "source": [
        "## Instalación de liberias\n",
        "\n",
        "Importar Lenskit"
      ]
    },
    {
      "cell_type": "code",
      "metadata": {
        "id": "yTEfW_2B-bsq",
        "colab": {
          "base_uri": "https://localhost:8080/"
        },
        "outputId": "f3653192-0453-4d59-a71c-3822efe8c50c"
      },
      "source": [
        "!pip install lenskit"
      ],
      "execution_count": 1,
      "outputs": [
        {
          "output_type": "stream",
          "text": [
            "Collecting lenskit\n",
            "\u001b[?25l  Downloading https://files.pythonhosted.org/packages/a0/c3/5b9f7af0a2b447e240215d8708fb51ea631140f32b1ee66bed0e12f3130d/lenskit-0.12.0-py3-none-any.whl (81kB)\n",
            "\r\u001b[K     |████                            | 10kB 14.9MB/s eta 0:00:01\r\u001b[K     |████████                        | 20kB 19.6MB/s eta 0:00:01\r\u001b[K     |████████████                    | 30kB 14.2MB/s eta 0:00:01\r\u001b[K     |████████████████▏               | 40kB 12.7MB/s eta 0:00:01\r\u001b[K     |████████████████████▏           | 51kB 7.0MB/s eta 0:00:01\r\u001b[K     |████████████████████████▏       | 61kB 8.0MB/s eta 0:00:01\r\u001b[K     |████████████████████████████▎   | 71kB 8.3MB/s eta 0:00:01\r\u001b[K     |████████████████████████████████| 81kB 4.8MB/s \n",
            "\u001b[?25hRequirement already satisfied: numba<0.53,>=0.51 in /usr/local/lib/python3.7/dist-packages (from lenskit) (0.51.2)\n",
            "Requirement already satisfied: scipy>=1.2 in /usr/local/lib/python3.7/dist-packages (from lenskit) (1.4.1)\n",
            "Requirement already satisfied: pandas>=0.24 in /usr/local/lib/python3.7/dist-packages (from lenskit) (1.1.5)\n",
            "Collecting csr<0.3,>=0.2\n",
            "  Downloading https://files.pythonhosted.org/packages/7b/cf/6f3e70794536754544b2fdbe04166e307e3876094b220354b98b1077508b/csr-0.2.0-py3-none-any.whl\n",
            "Requirement already satisfied: cffi>=1.12.2 in /usr/local/lib/python3.7/dist-packages (from lenskit) (1.14.5)\n",
            "Requirement already satisfied: numpy>=1.16 in /usr/local/lib/python3.7/dist-packages (from lenskit) (1.19.5)\n",
            "Collecting binpickle>=0.3.2\n",
            "  Downloading https://files.pythonhosted.org/packages/4d/e3/7aa8964f808f4e25ef0ff46b4fca7861079aacbbb572743557d6d686c3c6/binpickle-0.3.3-py3-none-any.whl\n",
            "Collecting pyarrow>=0.15\n",
            "\u001b[?25l  Downloading https://files.pythonhosted.org/packages/fc/61/814f4c8d2cd4d51dfd80a9c4ea14b8fd09e37cb0f6962c1f04d504a02e03/pyarrow-3.0.0-cp37-cp37m-manylinux2014_x86_64.whl (20.7MB)\n",
            "\u001b[K     |████████████████████████████████| 20.7MB 47.2MB/s \n",
            "\u001b[?25hRequirement already satisfied: llvmlite<0.35,>=0.34.0.dev0 in /usr/local/lib/python3.7/dist-packages (from numba<0.53,>=0.51->lenskit) (0.34.0)\n",
            "Requirement already satisfied: setuptools in /usr/local/lib/python3.7/dist-packages (from numba<0.53,>=0.51->lenskit) (53.0.0)\n",
            "Requirement already satisfied: python-dateutil>=2.7.3 in /usr/local/lib/python3.7/dist-packages (from pandas>=0.24->lenskit) (2.8.1)\n",
            "Requirement already satisfied: pytz>=2017.2 in /usr/local/lib/python3.7/dist-packages (from pandas>=0.24->lenskit) (2018.9)\n",
            "Requirement already satisfied: pycparser in /usr/local/lib/python3.7/dist-packages (from cffi>=1.12.2->lenskit) (2.20)\n",
            "Requirement already satisfied: msgpack>=1.0 in /usr/local/lib/python3.7/dist-packages (from binpickle>=0.3.2->lenskit) (1.0.2)\n",
            "Collecting pickle5; python_version < \"3.8\"\n",
            "\u001b[?25l  Downloading https://files.pythonhosted.org/packages/f7/4c/5c4dd0462c8d3a6bc4af500a6af240763c2ebd1efdc736fc2c946d44b70a/pickle5-0.0.11.tar.gz (132kB)\n",
            "\u001b[K     |████████████████████████████████| 133kB 43.1MB/s \n",
            "\u001b[?25hRequirement already satisfied: six>=1.5 in /usr/local/lib/python3.7/dist-packages (from python-dateutil>=2.7.3->pandas>=0.24->lenskit) (1.15.0)\n",
            "Building wheels for collected packages: pickle5\n",
            "  Building wheel for pickle5 (setup.py) ... \u001b[?25l\u001b[?25hdone\n",
            "  Created wheel for pickle5: filename=pickle5-0.0.11-cp37-cp37m-linux_x86_64.whl size=219266 sha256=50fffd7d5959828d8e3ba24eb8fcb9759330bc83d910adb58d3bca081923a320\n",
            "  Stored in directory: /root/.cache/pip/wheels/a6/90/95/f889ca4aa8b0e0c7f21c8470b6f5d6032f0390a3a141a9a3bd\n",
            "Successfully built pickle5\n",
            "Installing collected packages: csr, pickle5, binpickle, pyarrow, lenskit\n",
            "  Found existing installation: pyarrow 0.14.1\n",
            "    Uninstalling pyarrow-0.14.1:\n",
            "      Successfully uninstalled pyarrow-0.14.1\n",
            "Successfully installed binpickle-0.3.3 csr-0.2.0 lenskit-0.12.0 pickle5-0.0.11 pyarrow-3.0.0\n"
          ],
          "name": "stdout"
        }
      ]
    },
    {
      "cell_type": "markdown",
      "metadata": {
        "id": "z2HH01vU_FJH"
      },
      "source": [
        "Vamos a utilizar el mismo dataset _MovieLens 100k Database_. Con ayuda del paquete __wget__ realizamos la descargar"
      ]
    },
    {
      "cell_type": "code",
      "metadata": {
        "id": "jfTip0HF_HYg",
        "colab": {
          "base_uri": "https://localhost:8080/"
        },
        "outputId": "114bb85c-bc65-40bb-aafd-e22a778c9c00"
      },
      "source": [
        "%%!\n",
        "wget -q -O ml-100k.zip http://files.grouplens.org/datasets/movielens/ml-100k.zip"
      ],
      "execution_count": 2,
      "outputs": [
        {
          "output_type": "execute_result",
          "data": {
            "text/plain": [
              "['Archive:  ml-100k.zip']"
            ]
          },
          "metadata": {
            "tags": []
          },
          "execution_count": 2
        }
      ]
    },
    {
      "cell_type": "code",
      "metadata": {
        "colab": {
          "base_uri": "https://localhost:8080/"
        },
        "id": "QyBiyxuyeVw5",
        "outputId": "76b427df-4c45-42f4-f51d-90cee66c7d37"
      },
      "source": [
        "# Descomprimir los archivos\r\n",
        "!unzip /content/ml-100k.zip -d /content/\r\n",
        "#!pwd"
      ],
      "execution_count": 10,
      "outputs": [
        {
          "output_type": "stream",
          "text": [
            "Archive:  /content/ml-100k.zip\n",
            "   creating: /content/ml-100k/\n",
            "  inflating: /content/ml-100k/allbut.pl  \n",
            "  inflating: /content/ml-100k/mku.sh  \n",
            "  inflating: /content/ml-100k/README  \n",
            "  inflating: /content/ml-100k/u.data  \n",
            "  inflating: /content/ml-100k/u.genre  \n",
            "  inflating: /content/ml-100k/u.info  \n",
            "  inflating: /content/ml-100k/u.item  \n",
            "  inflating: /content/ml-100k/u.occupation  \n",
            "  inflating: /content/ml-100k/u.user  \n",
            "  inflating: /content/ml-100k/u1.base  \n",
            "  inflating: /content/ml-100k/u1.test  \n",
            "  inflating: /content/ml-100k/u2.base  \n",
            "  inflating: /content/ml-100k/u2.test  \n",
            "  inflating: /content/ml-100k/u3.base  \n",
            "  inflating: /content/ml-100k/u3.test  \n",
            "  inflating: /content/ml-100k/u4.base  \n",
            "  inflating: /content/ml-100k/u4.test  \n",
            "  inflating: /content/ml-100k/u5.base  \n",
            "  inflating: /content/ml-100k/u5.test  \n",
            "  inflating: /content/ml-100k/ua.base  \n",
            "  inflating: /content/ml-100k/ua.test  \n",
            "  inflating: /content/ml-100k/ub.base  \n",
            "  inflating: /content/ml-100k/ub.test  \n"
          ],
          "name": "stdout"
        }
      ]
    },
    {
      "cell_type": "markdown",
      "metadata": {
        "id": "kKkbPx9T-_5I"
      },
      "source": [
        "Importar paquetes de Lenskit as como la libreria pandas para manipular los datos"
      ]
    },
    {
      "cell_type": "code",
      "metadata": {
        "id": "YmUzsYhc-Wir"
      },
      "source": [
        "from lenskit.datasets import ML100K\n",
        "from lenskit import batch, topn, util\n",
        "from lenskit import crossfold as xf\n",
        "from lenskit.algorithms import Recommender, als, item_knn as knn\n",
        "from lenskit import topn\n",
        "\n",
        "import pandas as pd"
      ],
      "execution_count": 11,
      "outputs": []
    },
    {
      "cell_type": "markdown",
      "metadata": {
        "id": "jptzht4c-Wiy"
      },
      "source": [
        "## Cargar los datos\n",
        "\n",
        "El paquete Lenskit nos proporciona una clase para cargar el dataset. Vamos a usarla, como parametro enviamos la ruta de la carpeta del dataset"
      ]
    },
    {
      "cell_type": "code",
      "metadata": {
        "id": "dV11a06p-Wiy",
        "colab": {
          "base_uri": "https://localhost:8080/",
          "height": 204
        },
        "outputId": "54a391d7-9200-4415-e65e-bbbe12d25454"
      },
      "source": [
        "ml100k = ML100K('ml-100k')\n",
        "ratings = ml100k.ratings\n",
        "ratings.head()"
      ],
      "execution_count": 12,
      "outputs": [
        {
          "output_type": "execute_result",
          "data": {
            "text/html": [
              "<div>\n",
              "<style scoped>\n",
              "    .dataframe tbody tr th:only-of-type {\n",
              "        vertical-align: middle;\n",
              "    }\n",
              "\n",
              "    .dataframe tbody tr th {\n",
              "        vertical-align: top;\n",
              "    }\n",
              "\n",
              "    .dataframe thead th {\n",
              "        text-align: right;\n",
              "    }\n",
              "</style>\n",
              "<table border=\"1\" class=\"dataframe\">\n",
              "  <thead>\n",
              "    <tr style=\"text-align: right;\">\n",
              "      <th></th>\n",
              "      <th>user</th>\n",
              "      <th>item</th>\n",
              "      <th>rating</th>\n",
              "      <th>timestamp</th>\n",
              "    </tr>\n",
              "  </thead>\n",
              "  <tbody>\n",
              "    <tr>\n",
              "      <th>0</th>\n",
              "      <td>196</td>\n",
              "      <td>242</td>\n",
              "      <td>3.0</td>\n",
              "      <td>881250949</td>\n",
              "    </tr>\n",
              "    <tr>\n",
              "      <th>1</th>\n",
              "      <td>186</td>\n",
              "      <td>302</td>\n",
              "      <td>3.0</td>\n",
              "      <td>891717742</td>\n",
              "    </tr>\n",
              "    <tr>\n",
              "      <th>2</th>\n",
              "      <td>22</td>\n",
              "      <td>377</td>\n",
              "      <td>1.0</td>\n",
              "      <td>878887116</td>\n",
              "    </tr>\n",
              "    <tr>\n",
              "      <th>3</th>\n",
              "      <td>244</td>\n",
              "      <td>51</td>\n",
              "      <td>2.0</td>\n",
              "      <td>880606923</td>\n",
              "    </tr>\n",
              "    <tr>\n",
              "      <th>4</th>\n",
              "      <td>166</td>\n",
              "      <td>346</td>\n",
              "      <td>1.0</td>\n",
              "      <td>886397596</td>\n",
              "    </tr>\n",
              "  </tbody>\n",
              "</table>\n",
              "</div>"
            ],
            "text/plain": [
              "   user  item  rating  timestamp\n",
              "0   196   242     3.0  881250949\n",
              "1   186   302     3.0  891717742\n",
              "2    22   377     1.0  878887116\n",
              "3   244    51     2.0  880606923\n",
              "4   166   346     1.0  886397596"
            ]
          },
          "metadata": {
            "tags": []
          },
          "execution_count": 12
        }
      ]
    },
    {
      "cell_type": "markdown",
      "metadata": {
        "id": "TdJ5cPrQ-Wi0"
      },
      "source": [
        "## Definición de algoritmos\n",
        "\n",
        "Vamos a utilizar y evaluar dos algoritmos. El primero (algo_ii) es un algoritmo Item-Item con un grupo de evaluación de 20 vecinos, el cual utiliza K Nearest Neightbors (KNN). \n",
        "\n",
        "El segundo Alternating Least Square (algo_als) es un algoritmo para factorización de matrices utilizado en la construcción de sistemas de recomendación"
      ]
    },
    {
      "cell_type": "code",
      "metadata": {
        "id": "6fmDeiVX-Wi0"
      },
      "source": [
        "algo_ii = knn.ItemItem(20)\n",
        "algo_als = als.BiasedMF(50)"
      ],
      "execution_count": 13,
      "outputs": []
    },
    {
      "cell_type": "markdown",
      "metadata": {
        "id": "g0HLlMmx-Wi3"
      },
      "source": [
        "## Ejecutar la evaluación\n",
        "\n",
        "En Lenskit, la evaluación del modelo se realiza en dos pasos:\n",
        "\n",
        "1. Generar recomendaciones a partir de los datos\n",
        "2. Evaluar las recomendaciones generadas\n",
        "\n",
        "Si no se posee suficiente memoria para correr el modelo, es posible realizar este proceso de evaluación de metricas mientras se generan recomendaciones. No obstante, no lo haremos así en este tutorial.\n",
        "\n",
        "En primer lugar vamos a definir una función para generar las recomendaciones utilizando un algoritmo sobre un subconjunto (partición) del conjunto de datost. Las entradas seran el algoritmo a usar, el conjunto de entrenamiento, el conjunto test y su resultado sera la recomendación.\n",
        "\n",
        "**Note:** Antes de ajustar el modelo con el algoritmo, clonamos el objeto que lo define. En algunos casos se presentan errores debido a la mutación que puede tener el objeto.\n",
        "\n",
        "**Note 2:** Nuestro algoritmo no implementa la interfaz `Recommender` por ello ajustamos nuestra implementación. Esta interfaz determina el selector de candidatos por defecto.\n",
        "\n",
        "Con este contexto, nuestra función es:"
      ]
    },
    {
      "cell_type": "code",
      "metadata": {
        "id": "Ail8EBMw-Wi3"
      },
      "source": [
        "def eval(aname, algo, train, test):\n",
        "    fittable = util.clone(algo)\n",
        "    fittable = Recommender.adapt(fittable)\n",
        "    fittable.fit(train)\n",
        "    users = test.user.unique()\n",
        "    # now we run the recommender\n",
        "    recs = batch.recommend(fittable, users, 100)\n",
        "    # add the algorithm name for analyzability\n",
        "    recs['Algorithm'] = aname\n",
        "    return recs"
      ],
      "execution_count": 14,
      "outputs": []
    },
    {
      "cell_type": "markdown",
      "metadata": {
        "id": "YvXB4_ox-Wi5"
      },
      "source": [
        "Con nuestra función definida, iteramos sobre los datos y los dos algoritmos y generamos recomendaciones:"
      ]
    },
    {
      "cell_type": "code",
      "metadata": {
        "id": "SmrMUXs1-Wi5",
        "colab": {
          "base_uri": "https://localhost:8080/"
        },
        "outputId": "46772610-dac8-4be0-ae43-755c56b5a2ac"
      },
      "source": [
        "all_recs = []\n",
        "test_data = []\n",
        "for train, test in xf.partition_users(ratings[['user', 'item', 'rating']], 5, xf.SampleFrac(0.2)):\n",
        "    test_data.append(test)\n",
        "    all_recs.append(eval('ItemItem', algo_ii, train, test))\n",
        "    all_recs.append(eval('ALS', algo_als, train, test))"
      ],
      "execution_count": 15,
      "outputs": [
        {
          "output_type": "stream",
          "text": [
            "/usr/local/lib/python3.7/dist-packages/lenskit/algorithms/item_knn.py:119: NumbaTypeSafetyWarning: unsafe cast from uint64 to int64. Precision may be lost.\n",
            "  b = blocks[bi]\n",
            "/usr/local/lib/python3.7/dist-packages/numba/np/ufunc/parallel.py:363: NumbaWarning: The TBB threading layer requires TBB version 2019.5 or later i.e., TBB_INTERFACE_VERSION >= 11005. Found TBB_INTERFACE_VERSION = 9107. The TBB threading layer is disabled.\n",
            "  warnings.warn(problem)\n"
          ],
          "name": "stderr"
        }
      ]
    },
    {
      "cell_type": "markdown",
      "metadata": {
        "id": "A8OKt3Nh-Wi7"
      },
      "source": [
        "Con los resultados obtenidos, construimos un único data frame que los agrupe:"
      ]
    },
    {
      "cell_type": "code",
      "metadata": {
        "id": "QN4dpGrj-Wi7",
        "colab": {
          "base_uri": "https://localhost:8080/",
          "height": 204
        },
        "outputId": "b4154e03-2f15-4b71-e0ea-3c834dc89ccf"
      },
      "source": [
        "all_recs = pd.concat(all_recs, ignore_index=True)\n",
        "all_recs.head()"
      ],
      "execution_count": 16,
      "outputs": [
        {
          "output_type": "execute_result",
          "data": {
            "text/html": [
              "<div>\n",
              "<style scoped>\n",
              "    .dataframe tbody tr th:only-of-type {\n",
              "        vertical-align: middle;\n",
              "    }\n",
              "\n",
              "    .dataframe tbody tr th {\n",
              "        vertical-align: top;\n",
              "    }\n",
              "\n",
              "    .dataframe thead th {\n",
              "        text-align: right;\n",
              "    }\n",
              "</style>\n",
              "<table border=\"1\" class=\"dataframe\">\n",
              "  <thead>\n",
              "    <tr style=\"text-align: right;\">\n",
              "      <th></th>\n",
              "      <th>item</th>\n",
              "      <th>score</th>\n",
              "      <th>user</th>\n",
              "      <th>rank</th>\n",
              "      <th>Algorithm</th>\n",
              "    </tr>\n",
              "  </thead>\n",
              "  <tbody>\n",
              "    <tr>\n",
              "      <th>0</th>\n",
              "      <td>1449</td>\n",
              "      <td>4.592536</td>\n",
              "      <td>6</td>\n",
              "      <td>1</td>\n",
              "      <td>ItemItem</td>\n",
              "    </tr>\n",
              "    <tr>\n",
              "      <th>1</th>\n",
              "      <td>1398</td>\n",
              "      <td>4.578079</td>\n",
              "      <td>6</td>\n",
              "      <td>2</td>\n",
              "      <td>ItemItem</td>\n",
              "    </tr>\n",
              "    <tr>\n",
              "      <th>2</th>\n",
              "      <td>603</td>\n",
              "      <td>4.565142</td>\n",
              "      <td>6</td>\n",
              "      <td>3</td>\n",
              "      <td>ItemItem</td>\n",
              "    </tr>\n",
              "    <tr>\n",
              "      <th>3</th>\n",
              "      <td>1642</td>\n",
              "      <td>4.460632</td>\n",
              "      <td>6</td>\n",
              "      <td>4</td>\n",
              "      <td>ItemItem</td>\n",
              "    </tr>\n",
              "    <tr>\n",
              "      <th>4</th>\n",
              "      <td>169</td>\n",
              "      <td>4.414575</td>\n",
              "      <td>6</td>\n",
              "      <td>5</td>\n",
              "      <td>ItemItem</td>\n",
              "    </tr>\n",
              "  </tbody>\n",
              "</table>\n",
              "</div>"
            ],
            "text/plain": [
              "   item     score  user  rank Algorithm\n",
              "0  1449  4.592536     6     1  ItemItem\n",
              "1  1398  4.578079     6     2  ItemItem\n",
              "2   603  4.565142     6     3  ItemItem\n",
              "3  1642  4.460632     6     4  ItemItem\n",
              "4   169  4.414575     6     5  ItemItem"
            ]
          },
          "metadata": {
            "tags": []
          },
          "execution_count": 16
        }
      ]
    },
    {
      "cell_type": "markdown",
      "metadata": {
        "id": "gYi83B1C-Wi9"
      },
      "source": [
        "Para computar nuestro analisis y evaluación de metricas debemos concatenar tambien el conjunto de test en el mismo data frame:"
      ]
    },
    {
      "cell_type": "code",
      "metadata": {
        "id": "3iC3fXml-Wi9"
      },
      "source": [
        "test_data = pd.concat(test_data, ignore_index=True)"
      ],
      "execution_count": 17,
      "outputs": []
    },
    {
      "cell_type": "markdown",
      "metadata": {
        "id": "RNLl1uAo-Wi_"
      },
      "source": [
        "Vamos a analizar las recomendaciones generadas con la utilidad `RecListAnalysis`.  Esta utilidad realiza la tarea ardua de asegurarse que el conjunto de prueba y las recomendaciones generadas se encuentren alineadas.\n",
        "\n",
        "En este caso, asumimos que cada usuario aparece solo una vez en cada ejecución del algoritmo. Debido a que nuestro metodo de partición se enfoca en usuarios, no deberia haber ningún problema."
      ]
    },
    {
      "cell_type": "code",
      "metadata": {
        "id": "BEcRuEoF-Wi_",
        "colab": {
          "base_uri": "https://localhost:8080/",
          "height": 235
        },
        "outputId": "924fd2ca-45c7-45c9-f304-9fbcf6c29456"
      },
      "source": [
        "rla = topn.RecListAnalysis()\n",
        "rla.add_metric(topn.ndcg)\n",
        "results = rla.compute(all_recs, test_data)\n",
        "results.head()"
      ],
      "execution_count": 18,
      "outputs": [
        {
          "output_type": "execute_result",
          "data": {
            "text/html": [
              "<div>\n",
              "<style scoped>\n",
              "    .dataframe tbody tr th:only-of-type {\n",
              "        vertical-align: middle;\n",
              "    }\n",
              "\n",
              "    .dataframe tbody tr th {\n",
              "        vertical-align: top;\n",
              "    }\n",
              "\n",
              "    .dataframe thead th {\n",
              "        text-align: right;\n",
              "    }\n",
              "</style>\n",
              "<table border=\"1\" class=\"dataframe\">\n",
              "  <thead>\n",
              "    <tr style=\"text-align: right;\">\n",
              "      <th></th>\n",
              "      <th></th>\n",
              "      <th>nrecs</th>\n",
              "      <th>ndcg</th>\n",
              "    </tr>\n",
              "    <tr>\n",
              "      <th>Algorithm</th>\n",
              "      <th>user</th>\n",
              "      <th></th>\n",
              "      <th></th>\n",
              "    </tr>\n",
              "  </thead>\n",
              "  <tbody>\n",
              "    <tr>\n",
              "      <th rowspan=\"5\" valign=\"top\">ALS</th>\n",
              "      <th>1</th>\n",
              "      <td>100.0</td>\n",
              "      <td>0.283965</td>\n",
              "    </tr>\n",
              "    <tr>\n",
              "      <th>2</th>\n",
              "      <td>100.0</td>\n",
              "      <td>0.064179</td>\n",
              "    </tr>\n",
              "    <tr>\n",
              "      <th>3</th>\n",
              "      <td>100.0</td>\n",
              "      <td>0.039360</td>\n",
              "    </tr>\n",
              "    <tr>\n",
              "      <th>4</th>\n",
              "      <td>100.0</td>\n",
              "      <td>0.000000</td>\n",
              "    </tr>\n",
              "    <tr>\n",
              "      <th>5</th>\n",
              "      <td>100.0</td>\n",
              "      <td>0.116733</td>\n",
              "    </tr>\n",
              "  </tbody>\n",
              "</table>\n",
              "</div>"
            ],
            "text/plain": [
              "                nrecs      ndcg\n",
              "Algorithm user                 \n",
              "ALS       1     100.0  0.283965\n",
              "          2     100.0  0.064179\n",
              "          3     100.0  0.039360\n",
              "          4     100.0  0.000000\n",
              "          5     100.0  0.116733"
            ]
          },
          "metadata": {
            "tags": []
          },
          "execution_count": 18
        }
      ]
    },
    {
      "cell_type": "markdown",
      "metadata": {
        "id": "BlzeAxvo-WjC"
      },
      "source": [
        "Con este resultado, ya podemos obtener nuestras metricas"
      ]
    },
    {
      "cell_type": "code",
      "metadata": {
        "id": "o5NFmun7-WjC",
        "colab": {
          "base_uri": "https://localhost:8080/"
        },
        "outputId": "2c66d837-1d65-4e44-d624-bad9c1549078"
      },
      "source": [
        "results.groupby('Algorithm').ndcg.mean()"
      ],
      "execution_count": 19,
      "outputs": [
        {
          "output_type": "execute_result",
          "data": {
            "text/plain": [
              "Algorithm\n",
              "ALS         0.124460\n",
              "ItemItem    0.096843\n",
              "Name: ndcg, dtype: float64"
            ]
          },
          "metadata": {
            "tags": []
          },
          "execution_count": 19
        }
      ]
    },
    {
      "cell_type": "markdown",
      "metadata": {
        "id": "meHcN4S3_wcA"
      },
      "source": [
        "Finalmente, las representamos en un grafico de barras"
      ]
    },
    {
      "cell_type": "code",
      "metadata": {
        "id": "7ZlYiIvh-WjE",
        "colab": {
          "base_uri": "https://localhost:8080/",
          "height": 331
        },
        "outputId": "8133ad79-b88a-4907-889c-3c88d7c5f9ba"
      },
      "source": [
        "results.groupby('Algorithm').ndcg.mean().plot.bar()"
      ],
      "execution_count": null,
      "outputs": [
        {
          "output_type": "execute_result",
          "data": {
            "text/plain": [
              "<matplotlib.axes._subplots.AxesSubplot at 0x7ff0135b1860>"
            ]
          },
          "metadata": {
            "tags": []
          },
          "execution_count": 13
        },
        {
          "output_type": "display_data",
          "data": {
            "image/png": "[encoded data removed]",
            "text/plain": [
              "<Figure size 432x288 with 1 Axes>"
            ]
          },
          "metadata": {
            "tags": [],
            "needs_background": "light"
          }
        }
      ]
    },
    {
      "cell_type": "code",
      "metadata": {
        "id": "_a5zFyej-WjH"
      },
      "source": [
        ""
      ],
      "execution_count": null,
      "outputs": []
    }
  ]
}